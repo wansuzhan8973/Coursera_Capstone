{
 "cells": [
  {
   "cell_type": "markdown",
   "metadata": {},
   "source": [
    "### Week 3 Capstone"
   ]
  },
  {
   "cell_type": "markdown",
   "metadata": {},
   "source": [
    "**(1) Imports**"
   ]
  },
  {
   "cell_type": "code",
   "execution_count": 32,
   "metadata": {},
   "outputs": [],
   "source": [
    "from bs4 import BeautifulSoup\n",
    "import requests\n",
    "import pandas as pd\n",
    "import numpy as np"
   ]
  },
  {
   "cell_type": "markdown",
   "metadata": {},
   "source": [
    "**(2) Scrape Wikipedia Link**  \n",
    "Assumptions made:\n",
    "- Table has 3 columns\n",
    "- The first 3 elements inside 'th' are the column names of the table\n",
    "    - This is only needed as I'm using the 'find_all' function. If one uses another approach to get the table headers, then this assumption is not needed\n",
    "- The next content inside the 'td' after the last line of the table is blank\n",
    "    - This is only needed as I'm using the 'find_all' functionality of the 'soup'. If one uses another approach to get table content, for example by looking for \"/tbody>\"\"/table>\" to find the end of the table, then this assumption is not needed. "
   ]
  },
  {
   "cell_type": "code",
   "execution_count": 112,
   "metadata": {},
   "outputs": [],
   "source": [
    "page_link = 'https://en.wikipedia.org/wiki/List_of_postal_codes_of_Canada:_M'\n",
    "page_response = requests.get(page_link, timeout=5)\n",
    "page_content = BeautifulSoup(page_response.content, \"html.parser\")"
   ]
  },
  {
   "cell_type": "code",
   "execution_count": 58,
   "metadata": {},
   "outputs": [],
   "source": [
    "col_names = [col_name.replace('\\n', '') for col_name in [c.text for c in page_content.find_all(\"th\")][0:3]] # Column names are inside <th>. There are 3 columns in total\n",
    "df = pd.DataFrame(columns=col_names)\n",
    "tbl_content = [c.text for c in page_content.find_all(\"td\")]\n",
    "for i in range(len(tbl_content)//3):\n",
    "    if tbl_content[i*3] == '': # hack: the string after last line of the table is blank, thus one can use this to judge the end of the table\n",
    "        break\n",
    "    df.loc[len(df)] = [tbl_content[i*3], tbl_content[i*3+1], tbl_content[i*3+2].replace('\\n', '')]"
   ]
  },
  {
   "cell_type": "markdown",
   "metadata": {},
   "source": [
    "**(3) Process raw dataframe**"
   ]
  },
  {
   "cell_type": "code",
   "execution_count": 60,
   "metadata": {},
   "outputs": [],
   "source": [
    "# Filter out entries with Borough = Not assigned\n",
    "df = df[df['Borough']!='Not assigned']"
   ]
  },
  {
   "cell_type": "code",
   "execution_count": 66,
   "metadata": {},
   "outputs": [
    {
     "name": "stderr",
     "output_type": "stream",
     "text": [
      "/home/jupyterlab/conda/lib/python3.6/site-packages/ipykernel_launcher.py:3: SettingWithCopyWarning: \n",
      "A value is trying to be set on a copy of a slice from a DataFrame.\n",
      "Try using .loc[row_indexer,col_indexer] = value instead\n",
      "\n",
      "See the caveats in the documentation: http://pandas.pydata.org/pandas-docs/stable/indexing.html#indexing-view-versus-copy\n",
      "  This is separate from the ipykernel package so we can avoid doing imports until\n"
     ]
    }
   ],
   "source": [
    "# If a cell has a borough but a Not assigned neighborhood, then the neighborhood will be the same as the borough\n",
    "df_sub_has_neighborhood = df[df['Neighbourhood']!='Not assigned']\n",
    "df_sub_no_neighborhood = df[df['Neighbourhood']=='Not assigned']\n",
    "df_sub_no_neighborhood['Neighbourhood'] = df_sub_no_neighborhood['Borough']\n",
    "df = pd.concat([df_sub_has_neighborhood, df_sub_no_neighborhood])"
   ]
  },
  {
   "cell_type": "code",
   "execution_count": 92,
   "metadata": {},
   "outputs": [],
   "source": [
    "# Use comma to connect Neighbourhood if there are multiple entries for the same Postcode\n",
    "df_clean = pd.concat([pd.DataFrame(df.groupby('Postcode')['Borough'].agg('min')), df.groupby('Postcode')['Neighbourhood'].agg(','.join)], axis=1).reset_index(drop=False)"
   ]
  },
  {
   "cell_type": "code",
   "execution_count": 95,
   "metadata": {},
   "outputs": [],
   "source": [
    "# Rename the df to be the same as instruction provided\n",
    "df_clean.rename(columns={'Postcode':'PostalCode', 'Neighbourhood': 'Neighborhood'}, inplace=True)"
   ]
  },
  {
   "cell_type": "markdown",
   "metadata": {},
   "source": [
    "**(4) Output**"
   ]
  },
  {
   "cell_type": "code",
   "execution_count": 111,
   "metadata": {},
   "outputs": [
    {
     "data": {
      "text/plain": [
       "(103, 3)"
      ]
     },
     "execution_count": 111,
     "metadata": {},
     "output_type": "execute_result"
    }
   ],
   "source": [
    "df_clean.shape"
   ]
  }
 ],
 "metadata": {
  "kernelspec": {
   "display_name": "Python 3",
   "language": "python",
   "name": "python3"
  },
  "language_info": {
   "codemirror_mode": {
    "name": "ipython",
    "version": 3
   },
   "file_extension": ".py",
   "mimetype": "text/x-python",
   "name": "python",
   "nbconvert_exporter": "python",
   "pygments_lexer": "ipython3",
   "version": "3.6.5"
  }
 },
 "nbformat": 4,
 "nbformat_minor": 2
}
